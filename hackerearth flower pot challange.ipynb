{
 "cells": [
  {
   "cell_type": "code",
   "execution_count": 15,
   "id": "41c38f43",
   "metadata": {},
   "outputs": [
    {
     "name": "stdout",
     "output_type": "stream",
     "text": [
      "1\n",
      "10 2 4\n",
      "134\n"
     ]
    }
   ],
   "source": [
    "test=int(input())\n",
    "a=[]\n",
    "b=[]\n",
    "n=[]\n",
    "for i in range(test):\n",
    "    inp=input().split()\n",
    "    a.append(int(inp[1]))\n",
    "    b.append(int(inp[2]))\n",
    "    n.append(int(inp[0]))\n",
    "\n",
    "def optimized(a,b,n):\n",
    "    mini=[]\n",
    "    for i in range(1,n+1):\n",
    "        x=i\n",
    "        y=n-i\n",
    "        mini.append(a*x*x + b*y*y)\n",
    "    \n",
    "    for s in range(1,n+1):\n",
    "        if(mini[s-1]==min(mini)):\n",
    "            x=s\n",
    "            y=n-s\n",
    "    return a*x*x + b*y*y\n",
    "\n",
    "for i in range(test):\n",
    "    print(optimized(a[i],b[i],n[i]))"
   ]
  },
  {
   "cell_type": "code",
   "execution_count": null,
   "id": "aadd063d",
   "metadata": {},
   "outputs": [],
   "source": []
  },
  {
   "cell_type": "code",
   "execution_count": null,
   "id": "6c9e73cb",
   "metadata": {},
   "outputs": [],
   "source": []
  }
 ],
 "metadata": {
  "kernelspec": {
   "display_name": "Python 3",
   "language": "python",
   "name": "python3"
  },
  "language_info": {
   "codemirror_mode": {
    "name": "ipython",
    "version": 3
   },
   "file_extension": ".py",
   "mimetype": "text/x-python",
   "name": "python",
   "nbconvert_exporter": "python",
   "pygments_lexer": "ipython3",
   "version": "3.8.8"
  }
 },
 "nbformat": 4,
 "nbformat_minor": 5
}
